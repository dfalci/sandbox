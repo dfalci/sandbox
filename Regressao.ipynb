{
 "cells": [
  {
   "cell_type": "markdown",
   "metadata": {},
   "source": [
    "### Onde encontro outros DataSets?\n",
    "\n",
    "Existem várias fontes comuns, mas o [Kaggle datasets](https://www.kaggle.com/datasets) é um dos melhores!\n",
    "\n",
    "### O nosso exemplo: Boston Housing DataSet\n",
    "\n",
    "Clicando [aqui](https://www.kaggle.com/c/boston-housing) você encontrará o nosso dataset em dois arquivos csv: train e test\n",
    "\n",
    "O primeiro corresponde aos dados de treinamento do seu modelo, enquanto o segundo indica \n",
    "\n",
    "\n",
    "- __crim__ per capita crime rate by town.\n",
    "- __zn__ proportion of residential land zoned for lots over 25,000 sq.ft.\n",
    "- __indus__ proportion of non-retail business acres per town.\n",
    "- __chas__ Charles River dummy variable (= 1 if tract bounds river; 0 otherwise).\n",
    "- __nox__ nitrogen oxides concentration (parts per 10 million).\n",
    "- __rm__ average number of rooms per home.\n",
    "- __age__ proportion of owner-occupied units built prior to 1940.\n",
    "- __dis__ weighted mean of distances to five Boston employment centres.\n",
    "- __rad__ index of accessibility to radial highways.\n",
    "- __tax__ full-value property-tax rate per \\$10,000.\n",
    "- __ptratio__  pupil-teacher ratio by town.\n",
    "- __black__ 1000(Bk - 0.63)^2 where Bk is the proportion of blacks by town.\n",
    "- __lstat__ lower status of the population (percent).\n",
    "- __medv__ median value of owner-occupied homes in \\$1000s.\n"
   ]
  },
  {
   "cell_type": "code",
   "execution_count": 28,
   "metadata": {
    "collapsed": true
   },
   "outputs": [],
   "source": [
    "import pandas as pd\n",
    "import matplotlib.pyplot as plt\n",
    "import numpy as np"
   ]
  },
  {
   "cell_type": "markdown",
   "metadata": {},
   "source": [
    "### lidando com o pandas"
   ]
  },
  {
   "cell_type": "code",
   "execution_count": 42,
   "metadata": {},
   "outputs": [],
   "source": [
    "trainDF = pd.read_csv('boston_train.csv')\n",
    "testDF = pd.read_csv('boston_test.csv')\n",
    "\n",
    "df = pd.concat([trainDF, testDF])"
   ]
  },
  {
   "cell_type": "code",
   "execution_count": 43,
   "metadata": {},
   "outputs": [
    {
     "data": {
      "text/html": [
       "<div>\n",
       "<style>\n",
       "    .dataframe thead tr:only-child th {\n",
       "        text-align: right;\n",
       "    }\n",
       "\n",
       "    .dataframe thead th {\n",
       "        text-align: left;\n",
       "    }\n",
       "\n",
       "    .dataframe tbody tr th {\n",
       "        vertical-align: top;\n",
       "    }\n",
       "</style>\n",
       "<table border=\"1\" class=\"dataframe\">\n",
       "  <thead>\n",
       "    <tr style=\"text-align: right;\">\n",
       "      <th></th>\n",
       "      <th>ID</th>\n",
       "      <th>age</th>\n",
       "      <th>black</th>\n",
       "      <th>chas</th>\n",
       "      <th>crim</th>\n",
       "      <th>dis</th>\n",
       "      <th>indus</th>\n",
       "      <th>lstat</th>\n",
       "      <th>medv</th>\n",
       "      <th>nox</th>\n",
       "      <th>ptratio</th>\n",
       "      <th>rad</th>\n",
       "      <th>rm</th>\n",
       "      <th>tax</th>\n",
       "      <th>zn</th>\n",
       "    </tr>\n",
       "  </thead>\n",
       "  <tbody>\n",
       "    <tr>\n",
       "      <th>0</th>\n",
       "      <td>1</td>\n",
       "      <td>65.2</td>\n",
       "      <td>396.90</td>\n",
       "      <td>0</td>\n",
       "      <td>0.00632</td>\n",
       "      <td>4.0900</td>\n",
       "      <td>2.31</td>\n",
       "      <td>4.98</td>\n",
       "      <td>24.0</td>\n",
       "      <td>0.538</td>\n",
       "      <td>15.3</td>\n",
       "      <td>1</td>\n",
       "      <td>6.575</td>\n",
       "      <td>296</td>\n",
       "      <td>18.0</td>\n",
       "    </tr>\n",
       "    <tr>\n",
       "      <th>1</th>\n",
       "      <td>2</td>\n",
       "      <td>78.9</td>\n",
       "      <td>396.90</td>\n",
       "      <td>0</td>\n",
       "      <td>0.02731</td>\n",
       "      <td>4.9671</td>\n",
       "      <td>7.07</td>\n",
       "      <td>9.14</td>\n",
       "      <td>21.6</td>\n",
       "      <td>0.469</td>\n",
       "      <td>17.8</td>\n",
       "      <td>2</td>\n",
       "      <td>6.421</td>\n",
       "      <td>242</td>\n",
       "      <td>0.0</td>\n",
       "    </tr>\n",
       "    <tr>\n",
       "      <th>2</th>\n",
       "      <td>4</td>\n",
       "      <td>45.8</td>\n",
       "      <td>394.63</td>\n",
       "      <td>0</td>\n",
       "      <td>0.03237</td>\n",
       "      <td>6.0622</td>\n",
       "      <td>2.18</td>\n",
       "      <td>2.94</td>\n",
       "      <td>33.4</td>\n",
       "      <td>0.458</td>\n",
       "      <td>18.7</td>\n",
       "      <td>3</td>\n",
       "      <td>6.998</td>\n",
       "      <td>222</td>\n",
       "      <td>0.0</td>\n",
       "    </tr>\n",
       "    <tr>\n",
       "      <th>3</th>\n",
       "      <td>5</td>\n",
       "      <td>54.2</td>\n",
       "      <td>396.90</td>\n",
       "      <td>0</td>\n",
       "      <td>0.06905</td>\n",
       "      <td>6.0622</td>\n",
       "      <td>2.18</td>\n",
       "      <td>5.33</td>\n",
       "      <td>36.2</td>\n",
       "      <td>0.458</td>\n",
       "      <td>18.7</td>\n",
       "      <td>3</td>\n",
       "      <td>7.147</td>\n",
       "      <td>222</td>\n",
       "      <td>0.0</td>\n",
       "    </tr>\n",
       "    <tr>\n",
       "      <th>4</th>\n",
       "      <td>7</td>\n",
       "      <td>66.6</td>\n",
       "      <td>395.60</td>\n",
       "      <td>0</td>\n",
       "      <td>0.08829</td>\n",
       "      <td>5.5605</td>\n",
       "      <td>7.87</td>\n",
       "      <td>12.43</td>\n",
       "      <td>22.9</td>\n",
       "      <td>0.524</td>\n",
       "      <td>15.2</td>\n",
       "      <td>5</td>\n",
       "      <td>6.012</td>\n",
       "      <td>311</td>\n",
       "      <td>12.5</td>\n",
       "    </tr>\n",
       "  </tbody>\n",
       "</table>\n",
       "</div>"
      ],
      "text/plain": [
       "   ID   age   black  chas     crim     dis  indus  lstat  medv    nox  \\\n",
       "0   1  65.2  396.90     0  0.00632  4.0900   2.31   4.98  24.0  0.538   \n",
       "1   2  78.9  396.90     0  0.02731  4.9671   7.07   9.14  21.6  0.469   \n",
       "2   4  45.8  394.63     0  0.03237  6.0622   2.18   2.94  33.4  0.458   \n",
       "3   5  54.2  396.90     0  0.06905  6.0622   2.18   5.33  36.2  0.458   \n",
       "4   7  66.6  395.60     0  0.08829  5.5605   7.87  12.43  22.9  0.524   \n",
       "\n",
       "   ptratio  rad     rm  tax    zn  \n",
       "0     15.3    1  6.575  296  18.0  \n",
       "1     17.8    2  6.421  242   0.0  \n",
       "2     18.7    3  6.998  222   0.0  \n",
       "3     18.7    3  7.147  222   0.0  \n",
       "4     15.2    5  6.012  311  12.5  "
      ]
     },
     "execution_count": 43,
     "metadata": {},
     "output_type": "execute_result"
    }
   ],
   "source": [
    "df.head()"
   ]
  },
  {
   "cell_type": "markdown",
   "metadata": {},
   "source": [
    "analisando"
   ]
  },
  {
   "cell_type": "code",
   "execution_count": 48,
   "metadata": {},
   "outputs": [
    {
     "data": {
      "text/plain": [
       "count    333.000000\n",
       "mean      22.768769\n",
       "std        9.173468\n",
       "min        5.000000\n",
       "25%       17.400000\n",
       "50%       21.600000\n",
       "75%       25.000000\n",
       "max       50.000000\n",
       "Name: medv, dtype: float64"
      ]
     },
     "execution_count": 48,
     "metadata": {},
     "output_type": "execute_result"
    }
   ],
   "source": [
    "df.describe()\n",
    "df['medv'].describe()\n",
    "#trainDF['medv'].describe()\n",
    "\n",
    "#np.min(trainDF['medv'])\n",
    "#np.max(trainDF['medv'])\n",
    "#np.mean(trainDF['medv'])"
   ]
  },
  {
   "cell_type": "code",
   "execution_count": 51,
   "metadata": {},
   "outputs": [
    {
     "data": {
      "image/png": "[encoded data removed]",
      "text/plain": [
       "<matplotlib.figure.Figure at 0x105a36790>"
      ]
     },
     "metadata": {},
     "output_type": "display_data"
    }
   ],
   "source": [
    "plt.plot(df['zn'])\n",
    "plt.show()"
   ]
  },
  {
   "cell_type": "code",
   "execution_count": 50,
   "metadata": {},
   "outputs": [
    {
     "name": "stderr",
     "output_type": "stream",
     "text": [
      "/usr/local/lib/python2.7/site-packages/sklearn/cross_validation.py:41: DeprecationWarning: This module was deprecated in version 0.18 in favor of the model_selection module into which all the refactored classes and functions are moved. Also note that the interface of the new CV iterators are different from that of this module. This module will be removed in 0.20.\n",
      "  \"This module will be removed in 0.20.\", DeprecationWarning)\n"
     ]
    }
   ],
   "source": [
    "from sklearn.cross_validation import train_test_split"
   ]
  },
  {
   "cell_type": "code",
   "execution_count": 66,
   "metadata": {},
   "outputs": [
    {
     "name": "stdout",
     "output_type": "stream",
     "text": [
      "0      24.0\n",
      "1      21.6\n",
      "2      33.4\n",
      "3      36.2\n",
      "4      22.9\n",
      "5      15.0\n",
      "6      18.9\n",
      "7      21.7\n",
      "8      20.4\n",
      "9      18.2\n",
      "10     19.9\n",
      "11     23.1\n",
      "12     20.2\n",
      "13     13.6\n",
      "14     19.6\n",
      "15     15.2\n",
      "16     14.5\n",
      "17     14.8\n",
      "18     12.7\n",
      "19     14.5\n",
      "20     13.5\n",
      "21     24.7\n",
      "22     30.8\n",
      "23     34.9\n",
      "24     25.3\n",
      "25     24.7\n",
      "26     21.2\n",
      "27     19.3\n",
      "28     20.0\n",
      "29     16.6\n",
      "       ... \n",
      "143     NaN\n",
      "144     NaN\n",
      "145     NaN\n",
      "146     NaN\n",
      "147     NaN\n",
      "148     NaN\n",
      "149     NaN\n",
      "150     NaN\n",
      "151     NaN\n",
      "152     NaN\n",
      "153     NaN\n",
      "154     NaN\n",
      "155     NaN\n",
      "156     NaN\n",
      "157     NaN\n",
      "158     NaN\n",
      "159     NaN\n",
      "160     NaN\n",
      "161     NaN\n",
      "162     NaN\n",
      "163     NaN\n",
      "164     NaN\n",
      "165     NaN\n",
      "166     NaN\n",
      "167     NaN\n",
      "168     NaN\n",
      "169     NaN\n",
      "170     NaN\n",
      "171     NaN\n",
      "172     NaN\n",
      "Length: 506, dtype: float64\n"
     ]
    }
   ],
   "source": [
    "\n",
    "def getFeatures(linha):\n",
    "    return [linha.zn, linha.crim, linha.rm, linha.nox, linha.age, linha.tax]\n",
    "\n",
    "def getResultado(linha):\n",
    "    return linha.medv\n",
    "\n",
    "    \n",
    "features = df.apply(lambda linha: getFeatures(linha), axis=1)\n",
    "y = df.apply(lambda linha: getResultado(linha), axis=1)\n"
   ]
  },
  {
   "cell_type": "markdown",
   "metadata": {},
   "source": [
    "mais simples"
   ]
  },
  {
   "cell_type": "code",
   "execution_count": 181,
   "metadata": {},
   "outputs": [],
   "source": [
    "df = df.fillna(df.median(axis=0))\n",
    "def pegaTudo(linha):\n",
    "    return [linha.zn, linha.crim, linha.rm, linha.nox, linha.age, linha.tax, linha.ptratio, linha.lstat], linha.medv\n",
    "\n",
    "features, y = zip(*df.apply(lambda linha: pegaTudo(linha), axis=1))\n",
    "features = np.array(features)\n",
    "y = np.array(y)\n"
   ]
  },
  {
   "cell_type": "code",
   "execution_count": 182,
   "metadata": {},
   "outputs": [],
   "source": [
    "from sklearn.preprocessing import MinMaxScaler\n",
    "featureScaler = MinMaxScaler(feature_range=(0, 1))\n",
    "yScaler = MinMaxScaler(feature_range=(0, 1))\n",
    "features = featureScaler.fit_transform(features)\n",
    "y = yScaler.fit_transform(y.reshape(-1, 1))"
   ]
  },
  {
   "cell_type": "code",
   "execution_count": 183,
   "metadata": {},
   "outputs": [],
   "source": [
    "x_train, x_test, y_train, y_test = train_test_split(features, y, test_size=0.2, random_state=13)"
   ]
  },
  {
   "cell_type": "code",
   "execution_count": 184,
   "metadata": {},
   "outputs": [
    {
     "name": "stdout",
     "output_type": "stream",
     "text": [
      "(404, 8)\n",
      "(102, 8)\n",
      "(404, 1)\n",
      "(102, 1)\n"
     ]
    }
   ],
   "source": [
    "print x_train.shape\n",
    "print x_test.shape\n",
    "print y_train.shape\n",
    "print y_test.shape"
   ]
  },
  {
   "cell_type": "code",
   "execution_count": 185,
   "metadata": {},
   "outputs": [],
   "source": [
    "from keras.models import Model\n",
    "from keras.layers import Dense\n",
    "from keras.engine import Input\n"
   ]
  },
  {
   "cell_type": "code",
   "execution_count": 205,
   "metadata": {},
   "outputs": [
    {
     "name": "stdout",
     "output_type": "stream",
     "text": [
      "_________________________________________________________________\n",
      "Layer (type)                 Output Shape              Param #   \n",
      "=================================================================\n",
      "entrada (InputLayer)         (None, 8)                 0         \n",
      "_________________________________________________________________\n",
      "camada1 (Dense)              (None, 10)                90        \n",
      "_________________________________________________________________\n",
      "camada2 (Dense)              (None, 10)                110       \n",
      "_________________________________________________________________\n",
      "camada3 (Dense)              (None, 10)                110       \n",
      "_________________________________________________________________\n",
      "output (Dense)               (None, 1)                 11        \n",
      "=================================================================\n",
      "Total params: 321\n",
      "Trainable params: 321\n",
      "Non-trainable params: 0\n",
      "_________________________________________________________________\n"
     ]
    }
   ],
   "source": [
    "entrada = Input(shape=(x_train.shape[1], ), name='entrada')\n",
    "x = Dense(10, activation = 'sigmoid', name='camada1')(entrada)\n",
    "x = Dense(10, activation='sigmoid', name='camada2')(x)\n",
    "x = Dense(10, activation='sigmoid', name='camada3')(x)\n",
    "output = Dense(1, activation='linear', name='output')(x)\n",
    "\n",
    "model = Model(inputs=[entrada], outputs=[output])\n",
    "model.compile(loss='mean_absolute_error', optimizer='adam')\n",
    "model.summary()\n",
    "\n",
    "\n",
    "\n"
   ]
  },
  {
   "cell_type": "code",
   "execution_count": 210,
   "metadata": {},
   "outputs": [
    {
     "name": "stdout",
     "output_type": "stream",
     "text": [
      "Train on 404 samples, validate on 102 samples\n",
      "Epoch 1/50\n",
      "404/404 [==============================] - 1s - loss: 0.0986 - val_loss: 0.0901\n",
      "Epoch 2/50\n",
      "404/404 [==============================] - 1s - loss: 0.0979 - val_loss: 0.0878\n",
      "Epoch 3/50\n",
      "404/404 [==============================] - 1s - loss: 0.0952 - val_loss: 0.0866\n",
      "Epoch 4/50\n",
      "404/404 [==============================] - 1s - loss: 0.0947 - val_loss: 0.0865\n",
      "Epoch 5/50\n",
      "404/404 [==============================] - 1s - loss: 0.0940 - val_loss: 0.0873\n",
      "Epoch 6/50\n",
      "404/404 [==============================] - 1s - loss: 0.0926 - val_loss: 0.0864\n",
      "Epoch 7/50\n",
      "404/404 [==============================] - 1s - loss: 0.0939 - val_loss: 0.0869\n",
      "Epoch 8/50\n",
      "404/404 [==============================] - 1s - loss: 0.0917 - val_loss: 0.0864\n",
      "Epoch 9/50\n",
      "404/404 [==============================] - 1s - loss: 0.0924 - val_loss: 0.0870\n",
      "Epoch 10/50\n",
      "404/404 [==============================] - 1s - loss: 0.0932 - val_loss: 0.0877\n",
      "Epoch 11/50\n",
      "404/404 [==============================] - 1s - loss: 0.0918 - val_loss: 0.0868\n",
      "Epoch 12/50\n",
      "404/404 [==============================] - 1s - loss: 0.0905 - val_loss: 0.1185\n",
      "Epoch 13/50\n",
      "404/404 [==============================] - 1s - loss: 0.0899 - val_loss: 0.0905\n",
      "Epoch 14/50\n",
      "404/404 [==============================] - 1s - loss: 0.0893 - val_loss: 0.0867\n",
      "Epoch 15/50\n",
      "404/404 [==============================] - 1s - loss: 0.0909 - val_loss: 0.0879\n",
      "Epoch 16/50\n",
      "404/404 [==============================] - 1s - loss: 0.0901 - val_loss: 0.0993\n",
      "Epoch 17/50\n",
      "404/404 [==============================] - 1s - loss: 0.0894 - val_loss: 0.0929\n",
      "Epoch 18/50\n",
      "404/404 [==============================] - 1s - loss: 0.0898 - val_loss: 0.0929\n",
      "Epoch 19/50\n",
      "404/404 [==============================] - 1s - loss: 0.0899 - val_loss: 0.0930\n",
      "Epoch 20/50\n",
      "404/404 [==============================] - 1s - loss: 0.0904 - val_loss: 0.0868\n",
      "Epoch 21/50\n",
      "404/404 [==============================] - 1s - loss: 0.0898 - val_loss: 0.0961\n",
      "Epoch 22/50\n",
      "404/404 [==============================] - 1s - loss: 0.0899 - val_loss: 0.0910\n",
      "Epoch 23/50\n",
      "404/404 [==============================] - 1s - loss: 0.0875 - val_loss: 0.0928\n",
      "Epoch 24/50\n",
      "404/404 [==============================] - 1s - loss: 0.0887 - val_loss: 0.0988\n",
      "Epoch 25/50\n",
      "404/404 [==============================] - 1s - loss: 0.0891 - val_loss: 0.0880\n",
      "Epoch 26/50\n",
      "404/404 [==============================] - 1s - loss: 0.0884 - val_loss: 0.0920\n",
      "Epoch 27/50\n",
      "404/404 [==============================] - 1s - loss: 0.0887 - val_loss: 0.0959\n",
      "Epoch 28/50\n",
      "404/404 [==============================] - 1s - loss: 0.0878 - val_loss: 0.0877\n",
      "Epoch 29/50\n",
      "404/404 [==============================] - 1s - loss: 0.0875 - val_loss: 0.0976\n",
      "Epoch 30/50\n",
      "404/404 [==============================] - 1s - loss: 0.0885 - val_loss: 0.0928\n",
      "Epoch 31/50\n",
      "404/404 [==============================] - 1s - loss: 0.0872 - val_loss: 0.0904\n",
      "Epoch 32/50\n",
      "404/404 [==============================] - 1s - loss: 0.0871 - val_loss: 0.0971\n",
      "Epoch 33/50\n",
      "404/404 [==============================] - 1s - loss: 0.0890 - val_loss: 0.0895\n",
      "Epoch 34/50\n",
      "404/404 [==============================] - 1s - loss: 0.0886 - val_loss: 0.0893\n",
      "Epoch 35/50\n",
      "404/404 [==============================] - 1s - loss: 0.0880 - val_loss: 0.0870\n",
      "Epoch 36/50\n",
      "404/404 [==============================] - 1s - loss: 0.0873 - val_loss: 0.0872\n",
      "Epoch 37/50\n",
      "404/404 [==============================] - 1s - loss: 0.0878 - val_loss: 0.0882\n",
      "Epoch 38/50\n",
      "404/404 [==============================] - 1s - loss: 0.0893 - val_loss: 0.0976\n",
      "Epoch 39/50\n",
      "404/404 [==============================] - 1s - loss: 0.0874 - val_loss: 0.0915\n",
      "Epoch 40/50\n",
      "404/404 [==============================] - 1s - loss: 0.0868 - val_loss: 0.0900\n",
      "Epoch 41/50\n",
      "404/404 [==============================] - 1s - loss: 0.0887 - val_loss: 0.0891\n",
      "Epoch 42/50\n",
      "404/404 [==============================] - 1s - loss: 0.0879 - val_loss: 0.0877\n",
      "Epoch 43/50\n",
      "404/404 [==============================] - 1s - loss: 0.0879 - val_loss: 0.0873\n",
      "Epoch 44/50\n",
      "404/404 [==============================] - 1s - loss: 0.0882 - val_loss: 0.0884\n",
      "Epoch 45/50\n",
      "404/404 [==============================] - 1s - loss: 0.0875 - val_loss: 0.0926\n",
      "Epoch 46/50\n",
      "404/404 [==============================] - 1s - loss: 0.0872 - val_loss: 0.0876\n",
      "Epoch 47/50\n",
      "404/404 [==============================] - 1s - loss: 0.0886 - val_loss: 0.0927\n",
      "Epoch 48/50\n",
      "404/404 [==============================] - 1s - loss: 0.0865 - val_loss: 0.0905\n",
      "Epoch 49/50\n",
      "404/404 [==============================] - 1s - loss: 0.0870 - val_loss: 0.0906\n",
      "Epoch 50/50\n",
      "404/404 [==============================] - 1s - loss: 0.0881 - val_loss: 0.0886\n"
     ]
    }
   ],
   "source": [
    "history = model.fit(x_train, y_train, validation_data=(x_test, y_test), batch_size = 1, epochs = 50)"
   ]
  },
  {
   "cell_type": "code",
   "execution_count": 211,
   "metadata": {},
   "outputs": [
    {
     "data": {
      "image/png": "[encoded data removed]",
      "text/plain": [
       "<matplotlib.figure.Figure at 0x116b97a90>"
      ]
     },
     "metadata": {},
     "output_type": "display_data"
    }
   ],
   "source": [
    "plt.plot(history.history['loss'], label='Training loss')\n",
    "plt.plot(history.history['val_loss'], label='Validation Loss')\n",
    "plt.legend()\n",
    "plt.show()"
   ]
  },
  {
   "cell_type": "code",
   "execution_count": 220,
   "metadata": {},
   "outputs": [
    {
     "name": "stdout",
     "output_type": "stream",
     "text": [
      "[[ 0.28404486]\n",
      " [ 0.42930639]\n",
      " [ 0.31867352]\n",
      " [ 0.48151159]\n",
      " [ 0.29488373]\n",
      " [ 0.48561907]\n",
      " [ 0.43687001]\n",
      " [ 0.52003151]\n",
      " [ 0.44049966]\n",
      " [ 0.33500004]]\n",
      "[[ 17.78201866]\n",
      " [ 24.31878662]\n",
      " [ 19.34030724]\n",
      " [ 26.66802216]\n",
      " [ 18.26976776]\n",
      " [ 26.85285759]\n",
      " [ 24.65915108]\n",
      " [ 28.40141678]\n",
      " [ 24.82248497]\n",
      " [ 20.07500076]]\n"
     ]
    }
   ],
   "source": [
    "#score = model.evaluate(x_test, y_test, batch_size=16)\n",
    "y_pred = model.predict(x_test)\n",
    "print y_pred[:10]\n",
    "print yScaler.inverse_transform(y_pred)[:10]\n",
    "\n"
   ]
  },
  {
   "cell_type": "code",
   "execution_count": null,
   "metadata": {
    "collapsed": true
   },
   "outputs": [],
   "source": []
  }
 ],
 "metadata": {
  "kernelspec": {
   "display_name": "Python 2",
   "language": "python",
   "name": "python2"
  },
  "language_info": {
   "codemirror_mode": {
    "name": "ipython",
    "version": 2
   },
   "file_extension": ".py",
   "mimetype": "text/x-python",
   "name": "python",
   "nbconvert_exporter": "python",
   "pygments_lexer": "ipython2",
   "version": "2.7.13"
  }
 },
 "nbformat": 4,
 "nbformat_minor": 2
}
